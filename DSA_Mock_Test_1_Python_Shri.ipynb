{
 "cells": [
  {
   "cell_type": "markdown",
   "id": "a45653e7",
   "metadata": {},
   "source": [
    "1. Move Zeroes\n",
    "Given an integer array nums, move all 0's to the end of it while maintaining the relative order of the non-zero elements.\n",
    "\n",
    "Note that you must do this in-place without making a copy of the array.\n",
    "\n",
    "Example 1:\n",
    "\n",
    "Input: nums = [0,1,0,3,12]\n",
    "\n",
    "Output: [1,3,12,0,0]\n",
    "\n",
    "Example 2:\n",
    "\n",
    "Input: nums = [0]\n",
    "\n",
    "Output: [0]\n",
    "\n",
    "Constraints:\n",
    "\n",
    "a. 1 <= nums.length <= 10^4\n",
    "\n",
    "b. -2^31 <= nums[i] <= 2^31 - 1"
   ]
  },
  {
   "cell_type": "code",
   "execution_count": 1,
   "id": "e6d19cdb",
   "metadata": {},
   "outputs": [],
   "source": [
    "def moveZeroes(nums):\n",
    "    i = j = 0\n",
    "\n",
    "    # Move non-zero elements to the beginning\n",
    "    while i < len(nums):\n",
    "        if nums[i] != 0:\n",
    "            nums[i], nums[j] = nums[j], nums[i]\n",
    "            j += 1\n",
    "        i += 1\n",
    "\n",
    "    # Set remaining elements to zero\n",
    "    while j < len(nums):\n",
    "        nums[j] = 0\n",
    "        j += 1\n",
    "\n",
    "    return nums\n"
   ]
  },
  {
   "cell_type": "code",
   "execution_count": 2,
   "id": "60c41fc3",
   "metadata": {},
   "outputs": [
    {
     "name": "stdout",
     "output_type": "stream",
     "text": [
      "[1, 3, 12, 0, 0]\n"
     ]
    }
   ],
   "source": [
    "#Example 1:\n",
    "nums = [0, 1, 0, 3, 12]\n",
    "print(moveZeroes(nums))"
   ]
  },
  {
   "cell_type": "code",
   "execution_count": 3,
   "id": "f821f89f",
   "metadata": {},
   "outputs": [
    {
     "name": "stdout",
     "output_type": "stream",
     "text": [
      "[0]\n"
     ]
    }
   ],
   "source": [
    "#Example 2:\n",
    "nums = [0]\n",
    "print(moveZeroes(nums))"
   ]
  },
  {
   "cell_type": "code",
   "execution_count": null,
   "id": "e4e84042",
   "metadata": {},
   "outputs": [],
   "source": []
  }
 ],
 "metadata": {
  "kernelspec": {
   "display_name": "Python 3 (ipykernel)",
   "language": "python",
   "name": "python3"
  },
  "language_info": {
   "codemirror_mode": {
    "name": "ipython",
    "version": 3
   },
   "file_extension": ".py",
   "mimetype": "text/x-python",
   "name": "python",
   "nbconvert_exporter": "python",
   "pygments_lexer": "ipython3",
   "version": "3.9.7"
  }
 },
 "nbformat": 4,
 "nbformat_minor": 5
}
